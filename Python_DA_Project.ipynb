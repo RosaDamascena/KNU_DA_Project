{
 "cells": [
  {
   "cell_type": "markdown",
   "id": "43c0e9ba-fbc6-47bc-860a-0b90755f41be",
   "metadata": {},
   "source": [
    "# <div style=\"text-align:center\">파이썬데이터분석 프로젝트- 9주차 <br/><소제목></div>\n",
    "\n",
    "<div style=\"text-align: right\"> <b>강남대학교 글로벌경영학부 201902126 한성주</b></div>\n",
    "\n",
    "    \n",
    "# 목차\n",
    "\n",
    "- 주제 선정\n",
    "    \n",
    "- 분석 방향 제시\n",
    "    \n",
    "- 기초 분석\n",
    "\n",
    "- 심화 분석\n",
    "    "
   ]
  },
  {
   "cell_type": "code",
   "execution_count": null,
   "id": "4bcb0f16-9a3d-48ad-8fd3-98ca5f5cebfd",
   "metadata": {},
   "outputs": [],
   "source": []
  }
 ],
 "metadata": {
  "kernelspec": {
   "display_name": "Python 3 (ipykernel)",
   "language": "python",
   "name": "python3"
  },
  "language_info": {
   "codemirror_mode": {
    "name": "ipython",
    "version": 3
   },
   "file_extension": ".py",
   "mimetype": "text/x-python",
   "name": "python",
   "nbconvert_exporter": "python",
   "pygments_lexer": "ipython3",
   "version": "3.9.13"
  }
 },
 "nbformat": 4,
 "nbformat_minor": 5
}
