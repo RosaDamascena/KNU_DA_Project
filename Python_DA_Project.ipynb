{
 "cells": [
  {
   "cell_type": "markdown",
   "id": "43c0e9ba-fbc6-47bc-860a-0b90755f41be",
   "metadata": {},
   "source": [
    "# <div style=\"text-align:center\">파이썬데이터분석 프로젝트- 9주차 <br/> < 1인 가구의 변화 ></div>\n",
    "\n",
    "<div style=\"text-align: right\"> <b>강남대학교 글로벌경영학부 <br/> 201902126 한성주</b></div>\n",
    "    \n",
    "\n",
    "    \n",
    "## 📍 목차\n",
    "\n",
    "- 주제 선정\n",
    "    \n",
    "- 분석 방향\n",
    "    \n",
    "- 기초 분석\n",
    "\n",
    "- 심화 분석\n",
    "    \n",
    "- 결과 및 시사점\n",
    "   \n",
    "- 참고 문헌"
   ]
  },
  {
   "cell_type": "markdown",
   "id": "5cf6aac1-5f20-4201-9aa2-45eb1ca6b980",
   "metadata": {},
   "source": [
    "## 1. 주제 선정\n",
    "\n",
    "    프로젝트 과제 1차 제출 당시 지역별 관광지 방문자 수와 SNS 인기 명소의 상관관계를 분석하고자 하였습니다. 하지만 교수님께 받은 피드백을 통해 이 데이터 분석 결과가 유의미하지 않을 것이라 판단하여 주제를 변경하기로 하였습니다. 보다 현실적이면서 가치가 있는 데이터 분석 주제를 찾고자 하였습니다. \n",
    "    \n",
    "    현재 저의 거주 형태인 1인 가구에 대한 데이터 분석을 해보는 것이 흥미롭겠다는 생각을 하게 되었습니다. 1인 가구의 연도별 추이를 분석하고 1인 가구의 자산, 부채, 소비형태, 혼인률 등을 분석하여 현대사회에서 1인 가구의 흐름을 파악하고자 하였습니다. 이의 결과에 따라 현재 사회 문제의 해결 방안까지 도출하는 것이 이 프로젝트의 목적입니다."
   ]
  },
  {
   "cell_type": "markdown",
   "id": "4575f4e9-9231-4fec-8e3e-d1cb3d8a0269",
   "metadata": {},
   "source": [
    "## 2. 분석 방향\n",
    "\n",
    "    우선, 성 및 연령별 1인가구 데이터를 분석합니다. 연도별 1인 가구 수의 추이를 파악하고, 성별, 나이에 따른 차이도 확인할 것ㅇ. 이를 기준으로 자산 형태, 소비형태, 혼인상테, 소득 등과 상관관계를 분석합니다. 현대 1인 가구의 실태를 파악하고"
   ]
  },
  {
   "cell_type": "markdown",
   "id": "75cee9b5-132b-459f-94e5-2b5d3e7a8557",
   "metadata": {},
   "source": [
    "## 3. 기초 분석"
   ]
  },
  {
   "cell_type": "code",
   "execution_count": null,
   "id": "8d0d3caf-ca78-49f4-ac46-4dbaaf007686",
   "metadata": {},
   "outputs": [],
   "source": []
  }
 ],
 "metadata": {
  "kernelspec": {
   "display_name": "Python 3 (ipykernel)",
   "language": "python",
   "name": "python3"
  },
  "language_info": {
   "codemirror_mode": {
    "name": "ipython",
    "version": 3
   },
   "file_extension": ".py",
   "mimetype": "text/x-python",
   "name": "python",
   "nbconvert_exporter": "python",
   "pygments_lexer": "ipython3",
   "version": "3.9.13"
  }
 },
 "nbformat": 4,
 "nbformat_minor": 5
}
